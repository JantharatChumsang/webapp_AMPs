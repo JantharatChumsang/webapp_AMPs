{
 "cells": [
  {
   "cell_type": "code",
   "execution_count": 1,
   "metadata": {},
   "outputs": [
    {
     "name": "stderr",
     "output_type": "stream",
     "text": [
      "c:\\Users\\CPE\\anaconda3\\lib\\site-packages\\Bio\\SubsMat\\__init__.py:126: BiopythonDeprecationWarning: Bio.SubsMat has been deprecated, and we intend to remove it in a future release of Biopython. As an alternative, please consider using Bio.Align.substitution_matrices as a replacement, and contact the Biopython developers if you still need the Bio.SubsMat module.\n",
      "  warnings.warn(\n"
     ]
    }
   ],
   "source": [
    "from __future__ import print_function, division\n",
    "from Bio.pairwise2 import format_alignment\n",
    "from operator import itemgetter\n",
    "import os\n",
    "import sys\n",
    "import tempfile\n",
    "import warnings\n",
    "import pandas as pd0\n",
    "import string\n",
    "import pandas as pd\n",
    "try:\n",
    "    from Bio import pairwise2\n",
    "    from Bio.SubsMat import MatrixInfo as matlist\n",
    "except ImportError as exception:\n",
    "    print(\"[!] Could not import Biopython modules\", file=sys.stderr)\n",
    "    raise exception"
   ]
  },
  {
   "attachments": {},
   "cell_type": "markdown",
   "metadata": {},
   "source": [
    "โค้ดหลัก"
   ]
  },
  {
   "cell_type": "code",
   "execution_count": 2,
   "metadata": {},
   "outputs": [],
   "source": [
    "Hydrophobic_list =['F','W','I','L','V','A','M','C']\n",
    "Neutral_list = ['Y','H','T','S','P','G']\n",
    "Hydrophilic_list =['R','Q','K','N','E','D']\n",
    "charged_list = ['K','R','H','E','D']\n",
    "Uncharged_list = ['T','S','Q','N']\n",
    "sim_list = ['DFASCHTNGGICLPNRCPGHMIQIGICFRPRVKCCRSW', 'MKFTIVFLLLACVFAMGVATPGKPRPYSPRPTSHPRPIRVRREALAIEDHLTQAAIRPPPILPA', 'MASTERNFLLLSLVVSALSGLVHRSDAAEISFGSCTPQQSDERGQCVHITSCPYLANLLMVEPKTPAQRILLSKSQCGLDNRVEGLVNRILVCCPQSMRGNIMDSEPTPSTRDALQQGDVLPGNDVCGFLFADRIFGGTNTTLWEFPWMVLLQYKKLFSETYTFNCGGALLNSRYVLTAGHCLASRELDKSGAVLHSVRLGEWDTRTDPDCTTQMNGQRICAPKHIDIEVEKGIIHEMYAPNSVDQRNDIALVRLKRIVSYTDYVRPICLPTDGLVQNNFVDYGMDVAGWGLTENMQPSAIKLKITVNVWNLTSCQEKYSSFKVKLDDSQMCAGGQLGVDTCGGDSGGPLMVPISTGGRDVFYIAGVTSYGTKPCGLKGWPGVYTRTGAFIDWIKQKLEP','EDLTVKIGDFGLATEKSRWSGSHQFEQLS','MVLSPADKTNVKAAWGKVGAHAGEYGAEALERMFLSFPTTKTYFPHFDLSHGSAQVKGHGKKVADALTNAVAHVDDMPNALSALSDLHAHKLRVDPVNFKLLSHCLLVTLAAHLPAEFTPAVHASLDKFLASVSTVLTSKYR', 'MTTCSRQFTSSSSMKGSCGIGGGIGAGSSRISSVLAGGSCRAPNTYGGGLSVSSSRFSSGGAYGLGGGYGGGFSSSSSSFGSGFGGGYGGGLGAGLGGGFGGGFAGGDGLLVGSEKVTMQNLNDRLASYLDKVRALEEANADLEVKIRDWYQRQRPAEIKDYSPYFKTIEDLRNKILTATVDNANVLLQIDNARLAADDFRTKYETELNLRMSVEADINGLRRVLDELTLARADLEMQIESLKEELAYLKKNHEEEMNALRGQVGGDVNVEMDAAPGVDLSRILNEMRDQYEKMAEKNRKDAEEWFFTKTEELNREVATNSELVQSGKSEISELRRTMQNLEIELQSQLSMKASLENSLEETKGRYCMQLAQIQEMIGSVEEQLAQLRCEMEQQNQEYKILLDVKTRLEQEIATYRRLLEGEDAHLSSSQFSSGSQSSRDVTSSSRQIRTKVMDVHDGKVVSTHEQVLRTKN']"
   ]
  },
  {
   "cell_type": "code",
   "execution_count": 3,
   "metadata": {},
   "outputs": [],
   "source": [
    "def calculate_align_sequences(sequence_A, sequence_B, **kwargs):\n",
    "    \"\"\"\n",
    "    Performs a global pairwise alignment between two sequences\n",
    "    using the BLOSUM62 matrix and the Needleman-Wunsch algorithm\n",
    "    as implemented in Biopython. Returns the alignment, the sequence\n",
    "    identity and the residue mapping between both original sequences.\n",
    "    \"\"\"\n",
    "\n",
    "    def _calculate_identity(sequenceA, sequenceB):\n",
    "        \"\"\"\n",
    "        Returns the percentage of identical characters between two sequences.\n",
    "        Assumes the sequences are aligned.\n",
    "        \"\"\"\n",
    "\n",
    "        sa, sb, sl = sequenceA, sequenceB, len(sequenceA)\n",
    "        c_matches = [sa[i] == sb[i] for i in range(sl)]\n",
    "        matches = sum([1 for i in range(sl) if (sa[i] == sb[i])])\n",
    "        # gapless_sl = sum([1 for i in range(sl) if (sa[i] != '-' and sb[i] != '-')])\n",
    "        # gap_id = (100 * sum(matches)) / gapless_sl\n",
    "        gaps_al = sum([1 for i in range(sl) if (sa[i] == '-' or sb[i] == '-')])\n",
    "        return (matches, gaps_al)\n",
    "        \n",
    "    def _calculate_similarity(sequenceA, sequenceB):\n",
    "        sa, sb, sal, sbl = sequenceA, sequenceB, len(sequenceA), len(sequenceB)\n",
    "        c_sim = 0\n",
    "        align = []\n",
    "        for i in range(sal):\n",
    "            if ((sa[i] in Hydrophobic_list and sb[i] in Hydrophobic_list ) or (sa[i] in Neutral_list and sb[i] in Neutral_list ) or (sa[i] in Hydrophilic_list and sb[i] in Hydrophilic_list) or (sa[i] in charged_list and sb[i] in charged_list)  or (sa[i] in Uncharged_list and sb[i] in Uncharged_list) or (sa[i] == sb[i])):\n",
    "            # if ((sa[i] in Aliphatic_list and sb[i] in Aliphatic_list ) or (sa[i] in Hydrophobic_list and sb[i] in Hydrophobic_list ) or (sa[i] in Hydroxyl and sb[i] in Hydroxyl) or (sa[i] in charged_list and sb[i] in charged_list) or (sa[i] in Acidic and sb[i] in Acidic) or (sa[i] in Hydrophilic_list and sb[i] in Hydrophilic_list) or (sa[i] in a_list and sb[i] in a_list) or (sa[i] in b_list and sb[i] in b_list) or (sa[i] in c_list and sb[i] in c_list) or (sa[i] == sb[i]) or (sa[i] in a and sb[i] in a)):\n",
    "                if (sa[i] != sb[i]):\n",
    "                    align.append(':')\n",
    "                elif (sa[i] == sb[i]):\n",
    "                    align.append('|')\n",
    "                elif ((sa[i] != sb[i]) and (sa[i] != '-') and (sb[i] != '-')):\n",
    "                    align.append('.')\n",
    "                c_sim = c_sim+1\n",
    "            else:\n",
    "                if ((sa[i] != sb[i]) and (sa[i] != '-') and (sb[i] != '-')):\n",
    "                    align.append('.')\n",
    "                else:  \n",
    "                    align.append(' ')\n",
    "        align_l = ''.join(align)\n",
    "        return (align_l, c_sim)\n",
    "    #\n",
    "    matrix = kwargs.get('matrix', matlist.blosum62)\n",
    "    gap_open = kwargs.get('gap_open', -10.0)\n",
    "    gap_extend = kwargs.get('gap_extend', -0.5)\n",
    "\n",
    "    alns = pairwise2.align.globalds(sequence_A, sequence_B,\n",
    "                                    matrix, gap_open, gap_extend,\n",
    "                                    penalize_end_gaps=(False, False) )\n",
    "    seq_id_list = []\n",
    "    x = 0\n",
    "    # print(len(alns))\n",
    "    for alignment in alns: \n",
    "        aligned_A, aligned_B, score, begin, end = alignment\n",
    "        seq_id = _calculate_identity(aligned_A, aligned_B)\n",
    "        seq_id_list.append(seq_id)\n",
    "    inden = seq_id_list[0]\n",
    "    for i in seq_id_list:\n",
    "        if i <= inden:\n",
    "            aligned_A, aligned_B, score, begin, end = alns[x]\n",
    "        x=x+1\n",
    "          \n",
    "    # Calculate sequence identity\n",
    "    matches, gaps_al = _calculate_identity(aligned_A, aligned_B)\n",
    "    align_l, c_sim  = _calculate_similarity(aligned_A, aligned_B)\n",
    "\n",
    "    c_dot = sum([1 for i in range(len(align_l)) if (align_l[i] == '.')])\n",
    "    c_co = sum([1 for i in range(len(align_l)) if (align_l[i] == ':')])\n",
    "    len_a, len_b = len(sequence_A), len(sequence_B)\n",
    "    len_al = (len_a + len_b) - (matches + c_dot + c_co)\n",
    "\n",
    "    gaps = (100 * gaps_al)/ len_al\n",
    "    sim = (100 * c_sim) / len_al\n",
    "    iden = (100 * matches) / len_al\n",
    "\n",
    "    # return (aligned_A,align_list, aligned_B), 'score: %.1f' %score, 'identity: %.1f' %seq_id,'similarity: %.1f' %sim_p\n",
    "    return (aligned_A,align_l, aligned_B), float(f'{sim:,.2f}'), float(f'{iden:,.2f}'), float(f'{gaps:,.2f}')"
   ]
  },
  {
   "attachments": {},
   "cell_type": "markdown",
   "metadata": {},
   "source": [
    "หน้าเว็ปแสดงค่า sim ในส่วนของ Feature แต่ละตัว"
   ]
  },
  {
   "cell_type": "code",
   "execution_count": 4,
   "metadata": {},
   "outputs": [],
   "source": [
    "# ใช้หน้าpredic\n",
    "def align_sequences(sequence_B):\n",
    "    # sim_list = ['DFASCHTNGGICLPNRCPGHMIQIGICFRPRVKCCRSW', 'MKFTIVFLLLACVFAMGVATPGKPRPYSPRPTSHPRPIRVRREALAIEDHLTQAAIRPPPILPA', 'MASTERNFLLLSLVVSALSGLVHRSDAAEISFGSCTPQQSDERGQCVHITSCPYLANLLMVEPKTPAQRILLSKSQCGLDNRVEGLVNRILVCCPQSMRGNIMDSEPTPSTRDALQQGDVLPGNDVCGFLFADRIFGGTNTTLWEFPWMVLLQYKKLFSETYTFNCGGALLNSRYVLTAGHCLASRELDKSGAVLHSVRLGEWDTRTDPDCTTQMNGQRICAPKHIDIEVEKGIIHEMYAPNSVDQRNDIALVRLKRIVSYTDYVRPICLPTDGLVQNNFVDYGMDVAGWGLTENMQPSAIKLKITVNVWNLTSCQEKYSSFKVKLDDSQMCAGGQLGVDTCGGDSGGPLMVPISTGGRDVFYIAGVTSYGTKPCGLKGWPGVYTRTGAFIDWIKQKLEP','EDLTVKIGDFGLATEKSRWSGSHQFEQLS','MVLSPADKTNVKAAWGKVGAHAGEYGAEALERMFLSFPTTKTYFPHFDLSHGSAQVKGHGKKVADALTNAVAHVDDMPNALSALSDLHAHKLRVDPVNFKLLSHCLLVTLAAHLPAEFTPAVHASLDKFLASVSTVLTSKYR', 'MTTCSRQFTSSSSMKGSCGIGGGIGAGSSRISSVLAGGSCRAPNTYGGGLSVSSSRFSSGGAYGLGGGYGGGFSSSSSSFGSGFGGGYGGGLGAGLGGGFGGGFAGGDGLLVGSEKVTMQNLNDRLASYLDKVRALEEANADLEVKIRDWYQRQRPAEIKDYSPYFKTIEDLRNKILTATVDNANVLLQIDNARLAADDFRTKYETELNLRMSVEADINGLRRVLDELTLARADLEMQIESLKEELAYLKKNHEEEMNALRGQVGGDVNVEMDAAPGVDLSRILNEMRDQYEKMAEKNRKDAEEWFFTKTEELNREVATNSELVQSGKSEISELRRTMQNLEIELQSQLSMKASLENSLEETKGRYCMQLAQIQEMIGSVEEQLAQLRCEMEQQNQEYKILLDVKTRLEQEIATYRRLLEGEDAHLSSSQFSSGSQSSRDVTSSSRQIRTKVMDVHDGKVVSTHEQVLRTKN']\n",
    "    c = 0\n",
    "    list_sim_align = []\n",
    "    for i in sim_list:\n",
    "        align = calculate_align_sequences(i, sequence_B)\n",
    "        list_sim_align.append(align[1])\n",
    "        #ค่าในlist --> defensin,Drosocin,Spaetzle,B-RAF,hemoglobin,keratin\n",
    "    return list_sim_align"
   ]
  },
  {
   "cell_type": "code",
   "execution_count": 5,
   "metadata": {},
   "outputs": [],
   "source": [
    "a = 'DFASCHTNGGICLPNRCPGHMIQIGICFRPRVKCCRSW'\n",
    "sequence_A = 'DFASCHTNGGICLPNRCPGHMIQIGICFRPRVKCCRSW'\n",
    "sequence_B = 'MMNVYYFHHQADELLGTASEQFLGKSVKEIKQTILQTLEGHLRAILGTLTVEEVYKDRDQFAALVREVAAPDVGRMGIEILSFTIKDVYDDVQYLASLGKAQTAVVKRDADAGVAEANRDAGIREAECEKSAMDVKYSTDTKIEDNTRMYKLQKANFDQEINTAKAESQLAYELQAAKIRQRIRNEEIQIEVVERRKQIEIESQEVQRKDRELTGTVKLPAEAEAFRLQTLAQAKQCQTIEGARAEAERIRKIGSAEAHAIELVGKAEAERMRMKAHVYKQYGDAAIMNIVLESLPKIAAEVAAPLAKTDEIVLIGGNDNITNDVTRLVAQLPPSINALTGVDLSKVLSKIPGAKA'"
   ]
  },
  {
   "cell_type": "code",
   "execution_count": 6,
   "metadata": {},
   "outputs": [
    {
     "data": {
      "text/plain": [
       "[100.0, 9.3, 4.13, 8.2, 6.67, 0.8]"
      ]
     },
     "execution_count": 6,
     "metadata": {},
     "output_type": "execute_result"
    }
   ],
   "source": [
    "align_sequences(sequence_A)"
   ]
  },
  {
   "cell_type": "code",
   "execution_count": 7,
   "metadata": {},
   "outputs": [],
   "source": [
    "sequence_A = 'DFASCHTNGGICLPNRCPGHMIQIGICFRPRVKCCRSW'\n",
    "sequence_B = 'MMNVYYFHHQADELLGTASEQFLGKSVKEIKQTILQTLEGHLRAILGTLTVEEVYKDRDQFAALVREVAAPDVGRMGIEILSFTIKDVYDDVQYLASLGKAQTAVVKRDADAGVAEANRDAGIREAECEKSAMDVKYSTDTKIEDNTRMYKLQKANFDQEINTAKAESQLAYELQAAKIRQRIRNEEIQIEVVERRKQIEIESQEVQRKDRELTGTVKLPAEAEAFRLQTLAQAKQCQTIEGARAEAERIRKIGSAEAHAIELVGKAEAERMRMKAHVYKQYGDAAIMNIVLESLPKIAAEVAAPLAKTDEIVLIGGNDNITNDVTRLVAQLPPSINALTGVDLSKVLSKIPGAKA'"
   ]
  },
  {
   "cell_type": "code",
   "execution_count": 8,
   "metadata": {},
   "outputs": [],
   "source": [
    "list_val_sim = align_sequences(sequence_B)\n",
    "#type ของค่าใน list คือ float\n",
    "#ค่าในlistเรียงแบบนี้ --> defensin,Drosocin,Spaetzle,B-RAF,hemoglobin,keratin\n",
    "#อยากได้ค่าตัวไหน เรียกค่าของตำแหน่งใน list_val_sim เช่น\n",
    "#ค่าของ Drosocin อยู่ใน list ตำแหน่งที่ 2 index ที่ 1 \n",
    "# ใช้คำสั่ง --> list_val_sim[1]"
   ]
  },
  {
   "cell_type": "code",
   "execution_count": 9,
   "metadata": {},
   "outputs": [
    {
     "data": {
      "text/plain": [
       "[5.28, 7.41, 10.0, 4.76, 18.09, 25.64]"
      ]
     },
     "execution_count": 9,
     "metadata": {},
     "output_type": "execute_result"
    }
   ],
   "source": [
    "#Ex.\n",
    "list_val_sim"
   ]
  },
  {
   "attachments": {},
   "cell_type": "markdown",
   "metadata": {},
   "source": [
    "หน้าเว็ป align sequences ของ user"
   ]
  },
  {
   "cell_type": "code",
   "execution_count": 10,
   "metadata": {},
   "outputs": [],
   "source": [
    "align_sequences_user = calculate_align_sequences(sequence_A, sequence_B)\n",
    "#ใช้codeเดิม แค่เรียกคนละ def\n",
    "#หน้าเว็ป align sequences ของ user\n",
    "# ค่าจะเรียงเป็น --> วิธี align, sim, iden, gap\n",
    "#อยากได้ค่าตัวไหน เรียกค่าของตำแหน่งใน align_sequences_user เช่น\n",
    "#ค่าของ sim อยู่ใน align_sequences_user ตำแหน่งที่ 2 index ที่ 1 \n",
    "#type ของค่าใน sim, iden, gap คือ float\n",
    "# ใช้คำสั่ง --> align_sequences_user[1]"
   ]
  },
  {
   "cell_type": "code",
   "execution_count": 11,
   "metadata": {},
   "outputs": [
    {
     "data": {
      "text/plain": [
       "'                                                                                                                                                                                                              :....:.:|::.||.::....:|.    ..::|.|:::                                                                                                                    '"
      ]
     },
     "execution_count": 11,
     "metadata": {},
     "output_type": "execute_result"
    }
   ],
   "source": [
    "#Ex.\n",
    "align_sequences_user[0][1]"
   ]
  },
  {
   "cell_type": "code",
   "execution_count": null,
   "metadata": {},
   "outputs": [],
   "source": []
  }
 ],
 "metadata": {
  "kernelspec": {
   "display_name": "base",
   "language": "python",
   "name": "python3"
  },
  "language_info": {
   "codemirror_mode": {
    "name": "ipython",
    "version": 3
   },
   "file_extension": ".py",
   "mimetype": "text/x-python",
   "name": "python",
   "nbconvert_exporter": "python",
   "pygments_lexer": "ipython3",
   "version": "3.9.12"
  },
  "orig_nbformat": 4,
  "vscode": {
   "interpreter": {
    "hash": "a1f688c86976b874c375677ed1578d16eefa486d71945222ce93fe1c147e987b"
   }
  }
 },
 "nbformat": 4,
 "nbformat_minor": 2
}

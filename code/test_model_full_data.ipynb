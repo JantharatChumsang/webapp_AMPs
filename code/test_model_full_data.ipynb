{
 "cells": [
  {
   "cell_type": "code",
   "execution_count": 1,
   "metadata": {},
   "outputs": [],
   "source": [
    "import pandas as pd\n",
    "import joblib\n",
    "import re "
   ]
  },
  {
   "cell_type": "code",
   "execution_count": 2,
   "metadata": {},
   "outputs": [
    {
     "ename": "ModuleNotFoundError",
     "evalue": "No module named 'imblearn'",
     "output_type": "error",
     "traceback": [
      "\u001b[1;31m---------------------------------------------------------------------------\u001b[0m",
      "\u001b[1;31mModuleNotFoundError\u001b[0m                       Traceback (most recent call last)",
      "\u001b[1;32mc:\\Users\\CPE\\jz\\proj\\amp\\AMPapp\\test_model_full_data.ipynb Cell 2\u001b[0m in \u001b[0;36m<cell line: 1>\u001b[1;34m()\u001b[0m\n\u001b[1;32m----> <a href='vscode-notebook-cell:/c%3A/Users/CPE/jz/proj/amp/AMPapp/test_model_full_data.ipynb#W1sZmlsZQ%3D%3D?line=0'>1</a>\u001b[0m model_gramNec \u001b[39m=\u001b[39m joblib\u001b[39m.\u001b[39;49mload(\u001b[39m'\u001b[39;49m\u001b[39mmodel_RF_fulldata_gram-.pkl\u001b[39;49m\u001b[39m'\u001b[39;49m)\n\u001b[0;32m      <a href='vscode-notebook-cell:/c%3A/Users/CPE/jz/proj/amp/AMPapp/test_model_full_data.ipynb#W1sZmlsZQ%3D%3D?line=1'>2</a>\u001b[0m model_gramPos \u001b[39m=\u001b[39m joblib\u001b[39m.\u001b[39mload(\u001b[39m'\u001b[39m\u001b[39mmodel_RF_fulldata_gram+.pkl\u001b[39m\u001b[39m'\u001b[39m)\n",
      "File \u001b[1;32mc:\\Users\\CPE\\anaconda3\\lib\\site-packages\\joblib\\numpy_pickle.py:587\u001b[0m, in \u001b[0;36mload\u001b[1;34m(filename, mmap_mode)\u001b[0m\n\u001b[0;32m    581\u001b[0m             \u001b[39mif\u001b[39;00m \u001b[39misinstance\u001b[39m(fobj, \u001b[39mstr\u001b[39m):\n\u001b[0;32m    582\u001b[0m                 \u001b[39m# if the returned file object is a string, this means we\u001b[39;00m\n\u001b[0;32m    583\u001b[0m                 \u001b[39m# try to load a pickle file generated with an version of\u001b[39;00m\n\u001b[0;32m    584\u001b[0m                 \u001b[39m# Joblib so we load it with joblib compatibility function.\u001b[39;00m\n\u001b[0;32m    585\u001b[0m                 \u001b[39mreturn\u001b[39;00m load_compatibility(fobj)\n\u001b[1;32m--> 587\u001b[0m             obj \u001b[39m=\u001b[39m _unpickle(fobj, filename, mmap_mode)\n\u001b[0;32m    588\u001b[0m \u001b[39mreturn\u001b[39;00m obj\n",
      "File \u001b[1;32mc:\\Users\\CPE\\anaconda3\\lib\\site-packages\\joblib\\numpy_pickle.py:506\u001b[0m, in \u001b[0;36m_unpickle\u001b[1;34m(fobj, filename, mmap_mode)\u001b[0m\n\u001b[0;32m    504\u001b[0m obj \u001b[39m=\u001b[39m \u001b[39mNone\u001b[39;00m\n\u001b[0;32m    505\u001b[0m \u001b[39mtry\u001b[39;00m:\n\u001b[1;32m--> 506\u001b[0m     obj \u001b[39m=\u001b[39m unpickler\u001b[39m.\u001b[39;49mload()\n\u001b[0;32m    507\u001b[0m     \u001b[39mif\u001b[39;00m unpickler\u001b[39m.\u001b[39mcompat_mode:\n\u001b[0;32m    508\u001b[0m         warnings\u001b[39m.\u001b[39mwarn(\u001b[39m\"\u001b[39m\u001b[39mThe file \u001b[39m\u001b[39m'\u001b[39m\u001b[39m%s\u001b[39;00m\u001b[39m'\u001b[39m\u001b[39m has been generated with a \u001b[39m\u001b[39m\"\u001b[39m\n\u001b[0;32m    509\u001b[0m                       \u001b[39m\"\u001b[39m\u001b[39mjoblib version less than 0.10. \u001b[39m\u001b[39m\"\u001b[39m\n\u001b[0;32m    510\u001b[0m                       \u001b[39m\"\u001b[39m\u001b[39mPlease regenerate this pickle file.\u001b[39m\u001b[39m\"\u001b[39m\n\u001b[0;32m    511\u001b[0m                       \u001b[39m%\u001b[39m filename,\n\u001b[0;32m    512\u001b[0m                       \u001b[39mDeprecationWarning\u001b[39;00m, stacklevel\u001b[39m=\u001b[39m\u001b[39m3\u001b[39m)\n",
      "File \u001b[1;32mc:\\Users\\CPE\\anaconda3\\lib\\pickle.py:1212\u001b[0m, in \u001b[0;36m_Unpickler.load\u001b[1;34m(self)\u001b[0m\n\u001b[0;32m   1210\u001b[0m             \u001b[39mraise\u001b[39;00m \u001b[39mEOFError\u001b[39;00m\n\u001b[0;32m   1211\u001b[0m         \u001b[39massert\u001b[39;00m \u001b[39misinstance\u001b[39m(key, bytes_types)\n\u001b[1;32m-> 1212\u001b[0m         dispatch[key[\u001b[39m0\u001b[39;49m]](\u001b[39mself\u001b[39;49m)\n\u001b[0;32m   1213\u001b[0m \u001b[39mexcept\u001b[39;00m _Stop \u001b[39mas\u001b[39;00m stopinst:\n\u001b[0;32m   1214\u001b[0m     \u001b[39mreturn\u001b[39;00m stopinst\u001b[39m.\u001b[39mvalue\n",
      "File \u001b[1;32mc:\\Users\\CPE\\anaconda3\\lib\\pickle.py:1537\u001b[0m, in \u001b[0;36m_Unpickler.load_stack_global\u001b[1;34m(self)\u001b[0m\n\u001b[0;32m   1535\u001b[0m \u001b[39mif\u001b[39;00m \u001b[39mtype\u001b[39m(name) \u001b[39mis\u001b[39;00m \u001b[39mnot\u001b[39;00m \u001b[39mstr\u001b[39m \u001b[39mor\u001b[39;00m \u001b[39mtype\u001b[39m(module) \u001b[39mis\u001b[39;00m \u001b[39mnot\u001b[39;00m \u001b[39mstr\u001b[39m:\n\u001b[0;32m   1536\u001b[0m     \u001b[39mraise\u001b[39;00m UnpicklingError(\u001b[39m\"\u001b[39m\u001b[39mSTACK_GLOBAL requires str\u001b[39m\u001b[39m\"\u001b[39m)\n\u001b[1;32m-> 1537\u001b[0m \u001b[39mself\u001b[39m\u001b[39m.\u001b[39mappend(\u001b[39mself\u001b[39;49m\u001b[39m.\u001b[39;49mfind_class(module, name))\n",
      "File \u001b[1;32mc:\\Users\\CPE\\anaconda3\\lib\\pickle.py:1579\u001b[0m, in \u001b[0;36m_Unpickler.find_class\u001b[1;34m(self, module, name)\u001b[0m\n\u001b[0;32m   1577\u001b[0m     \u001b[39melif\u001b[39;00m module \u001b[39min\u001b[39;00m _compat_pickle\u001b[39m.\u001b[39mIMPORT_MAPPING:\n\u001b[0;32m   1578\u001b[0m         module \u001b[39m=\u001b[39m _compat_pickle\u001b[39m.\u001b[39mIMPORT_MAPPING[module]\n\u001b[1;32m-> 1579\u001b[0m \u001b[39m__import__\u001b[39;49m(module, level\u001b[39m=\u001b[39;49m\u001b[39m0\u001b[39;49m)\n\u001b[0;32m   1580\u001b[0m \u001b[39mif\u001b[39;00m \u001b[39mself\u001b[39m\u001b[39m.\u001b[39mproto \u001b[39m>\u001b[39m\u001b[39m=\u001b[39m \u001b[39m4\u001b[39m:\n\u001b[0;32m   1581\u001b[0m     \u001b[39mreturn\u001b[39;00m _getattribute(sys\u001b[39m.\u001b[39mmodules[module], name)[\u001b[39m0\u001b[39m]\n",
      "\u001b[1;31mModuleNotFoundError\u001b[0m: No module named 'imblearn'"
     ]
    }
   ],
   "source": [
    "model_gramNec = joblib.load('model_RF_fulldata_gram-.joblib')\n",
    "model_gramPos = joblib.load('model_RF_fulldata_gram+.joblib')"
   ]
  },
  {
   "cell_type": "code",
   "execution_count": 3,
   "metadata": {},
   "outputs": [
    {
     "data": {
      "text/html": [
       "<div>\n",
       "<style scoped>\n",
       "    .dataframe tbody tr th:only-of-type {\n",
       "        vertical-align: middle;\n",
       "    }\n",
       "\n",
       "    .dataframe tbody tr th {\n",
       "        vertical-align: top;\n",
       "    }\n",
       "\n",
       "    .dataframe thead th {\n",
       "        text-align: right;\n",
       "    }\n",
       "</style>\n",
       "<table border=\"1\" class=\"dataframe\">\n",
       "  <thead>\n",
       "    <tr style=\"text-align: right;\">\n",
       "      <th></th>\n",
       "      <th>Sequence_len</th>\n",
       "      <th>%hydrophobic</th>\n",
       "      <th>%hydrophilic</th>\n",
       "      <th>%uncharged</th>\n",
       "      <th>%positive charge</th>\n",
       "      <th>%Negative charge</th>\n",
       "      <th>Molecular Weight</th>\n",
       "      <th>pI</th>\n",
       "      <th>score hydrophilic</th>\n",
       "      <th>Score hydrophobic</th>\n",
       "      <th>similarity_Beta-defensin 1</th>\n",
       "      <th>similarity_Drosocin</th>\n",
       "      <th>similarity_Spaetzle</th>\n",
       "      <th>similarity_B-RAF</th>\n",
       "      <th>similarity_hemoglobin</th>\n",
       "      <th>similarity_keratin</th>\n",
       "    </tr>\n",
       "  </thead>\n",
       "  <tbody>\n",
       "    <tr>\n",
       "      <th>0</th>\n",
       "      <td>20.050125</td>\n",
       "      <td>44.440000</td>\n",
       "      <td>24.69000</td>\n",
       "      <td>23.540628</td>\n",
       "      <td>20.990000</td>\n",
       "      <td>3.700000</td>\n",
       "      <td>20.737504</td>\n",
       "      <td>77.336861</td>\n",
       "      <td>52.81250</td>\n",
       "      <td>58.848614</td>\n",
       "      <td>19.780000</td>\n",
       "      <td>44.320000</td>\n",
       "      <td>6.650000</td>\n",
       "      <td>32.437027</td>\n",
       "      <td>49.301676</td>\n",
       "      <td>19.503063</td>\n",
       "    </tr>\n",
       "    <tr>\n",
       "      <th>1</th>\n",
       "      <td>5.521375</td>\n",
       "      <td>-0.541498</td>\n",
       "      <td>0.22736</td>\n",
       "      <td>0.918164</td>\n",
       "      <td>-0.716244</td>\n",
       "      <td>1.470412</td>\n",
       "      <td>5.539347</td>\n",
       "      <td>-0.297169</td>\n",
       "      <td>0.37952</td>\n",
       "      <td>0.037936</td>\n",
       "      <td>-0.214907</td>\n",
       "      <td>1.845261</td>\n",
       "      <td>4.322905</td>\n",
       "      <td>-0.701804</td>\n",
       "      <td>1.534027</td>\n",
       "      <td>5.903256</td>\n",
       "    </tr>\n",
       "  </tbody>\n",
       "</table>\n",
       "</div>"
      ],
      "text/plain": [
       "   Sequence_len  %hydrophobic  %hydrophilic  %uncharged  %positive charge  \\\n",
       "0     20.050125     44.440000      24.69000   23.540628         20.990000   \n",
       "1      5.521375     -0.541498       0.22736    0.918164         -0.716244   \n",
       "\n",
       "   %Negative charge  Molecular Weight         pI  score hydrophilic  \\\n",
       "0          3.700000         20.737504  77.336861           52.81250   \n",
       "1          1.470412          5.539347  -0.297169            0.37952   \n",
       "\n",
       "   Score hydrophobic  similarity_Beta-defensin 1  similarity_Drosocin  \\\n",
       "0          58.848614                   19.780000            44.320000   \n",
       "1           0.037936                   -0.214907             1.845261   \n",
       "\n",
       "   similarity_Spaetzle  similarity_B-RAF  similarity_hemoglobin  \\\n",
       "0             6.650000         32.437027              49.301676   \n",
       "1             4.322905         -0.701804               1.534027   \n",
       "\n",
       "   similarity_keratin  \n",
       "0           19.503063  \n",
       "1            5.903256  "
      ]
     },
     "execution_count": 3,
     "metadata": {},
     "output_type": "execute_result"
    }
   ],
   "source": [
    "df_test = pd.read_csv('test_model_full_data.csv')\n",
    "df_test"
   ]
  },
  {
   "cell_type": "code",
   "execution_count": 4,
   "metadata": {},
   "outputs": [
    {
     "name": "stdout",
     "output_type": "stream",
     "text": [
      "[1 1]\n",
      "[1 0]\n"
     ]
    }
   ],
   "source": [
    "list_test_nom = df_test.values.tolist()\n",
    "predictions_nec = model_gramNec.predict(list_test_nom)\n",
    "predictions_pos = model_gramPos.predict(list_test_nom)\n",
    "print(predictions_nec)\n",
    "print(predictions_pos)"
   ]
  },
  {
   "cell_type": "code",
   "execution_count": 10,
   "metadata": {},
   "outputs": [],
   "source": [
    "def use_model(data_user_features_user_in_model):\n",
    "    list_test_nom = data_user_features_user_in_model.values.tolist()\n",
    "    predictions_nec = model_gramNec.predict(list_test_nom)\n",
    "    predictions_pos = model_gramPos.predict(list_test_nom)\n",
    "    for i in range(len(predictions_nec)):\n",
    "        if (predictions_pos[i] == 1) and (predictions_nec[i] == 1):\n",
    "            print('your peptide ต้านแบคทีเรียแกรมบวกและแกรมลบ')\n",
    "        elif (predictions_pos[i] == 1) and (predictions_nec[i] == 0):\n",
    "            print('your peptide ต้านแบคทีเรียแกรมบวก') \n",
    "        elif (predictions_pos[i] == 0) and (predictions_nec[i] == 1):\n",
    "            print('your peptide ต้านแบคทีเรียแกรมลบ')\n",
    "        else:\n",
    "            print('your peptide ต้านแบคทีเรียother')"
   ]
  },
  {
   "cell_type": "code",
   "execution_count": 11,
   "metadata": {},
   "outputs": [
    {
     "name": "stdout",
     "output_type": "stream",
     "text": [
      "your peptide ต้านแบคทีเรียแกรมบวกและแกรมลบ\n",
      "your peptide ต้านแบคทีเรียแกรมลบ\n"
     ]
    }
   ],
   "source": [
    "use_model(df_test)"
   ]
  },
  {
   "cell_type": "code",
   "execution_count": 153,
   "metadata": {},
   "outputs": [],
   "source": [
    "peptide_input = input('')"
   ]
  },
  {
   "attachments": {},
   "cell_type": "markdown",
   "metadata": {},
   "source": [
    ">name1 \n",
    "IAQQaaN\n",
    "VAATARG\n",
    ">name2\n",
    "RDAkELV ELFFEEIRRAL\n",
    ">name3\n",
    "FRKLFXRVYSNFLRGKLKL\n",
    "test_input =  ,>name1,IAQQaaN,VAATARG,>name2,RDAkELV ELFFEEIRRAL,>name3, FRKLF XRVYSNFlrGKLKL"
   ]
  },
  {
   "cell_type": "code",
   "execution_count": 31,
   "metadata": {},
   "outputs": [
    {
     "data": {
      "text/plain": [
       "',>name1,IAQQaaN,VAATARG,>name2,RDAkELV ELFFEEIRRAL,>name3, FRKLF XRVYSNFlrGKLKL'"
      ]
     },
     "execution_count": 31,
     "metadata": {},
     "output_type": "execute_result"
    }
   ],
   "source": [
    "peptide_input"
   ]
  },
  {
   "cell_type": "code",
   "execution_count": 154,
   "metadata": {},
   "outputs": [],
   "source": [
    "px = peptide_input.split(',')"
   ]
  },
  {
   "cell_type": "code",
   "execution_count": 155,
   "metadata": {},
   "outputs": [
    {
     "data": {
      "text/plain": [
       "list"
      ]
     },
     "execution_count": 155,
     "metadata": {},
     "output_type": "execute_result"
    }
   ],
   "source": [
    "type(px)"
   ]
  },
  {
   "cell_type": "code",
   "execution_count": 156,
   "metadata": {},
   "outputs": [
    {
     "data": {
      "text/plain": [
       "['',\n",
       " '>name1',\n",
       " 'IAQQaaN',\n",
       " 'VAATARG',\n",
       " '>name2',\n",
       " 'RDAbkELV ELFFEEIRRAL',\n",
       " '>name3',\n",
       " 'FRKLF XRVYSNFlrGKLKL']"
      ]
     },
     "execution_count": 156,
     "metadata": {},
     "output_type": "execute_result"
    }
   ],
   "source": [
    "list_clean_text = []\n",
    "for i in range(len(px)):\n",
    "    clean_text = \" \".join([word for word in px[i].split()])\n",
    "    list_clean_text.append(clean_text)\n",
    "list_clean_text\n",
    "\n",
    "\n"
   ]
  },
  {
   "cell_type": "code",
   "execution_count": 157,
   "metadata": {},
   "outputs": [
    {
     "data": {
      "text/plain": [
       "'IAQQaaNVAATARG'"
      ]
     },
     "execution_count": 157,
     "metadata": {},
     "output_type": "execute_result"
    }
   ],
   "source": [
    "list_clean_text[2]+list_clean_text[3]"
   ]
  },
  {
   "cell_type": "code",
   "execution_count": 158,
   "metadata": {},
   "outputs": [],
   "source": [
    "import re"
   ]
  },
  {
   "cell_type": "code",
   "execution_count": 215,
   "metadata": {},
   "outputs": [
    {
     "name": "stdout",
     "output_type": "stream",
     "text": [
      "IAQQAANVAATARG\n",
      "0\n",
      "RDABKELVELFFEEIRRAL\n",
      "1\n",
      "FRKLFXRVYSNFLRGKLKL\n",
      "2\n",
      "['>name1', '>name2', '>name3']\n",
      "['IAQQAANVAATARG', 'RDABKELVELFFEEIRRAL', 'FRKLFXRVYSNFLRGKLKL']\n"
     ]
    }
   ],
   "source": [
    "seq = []\n",
    "name_seq = []\n",
    "y = 0\n",
    "i = -1\n",
    "for a in range(len(list_clean_text)):\n",
    "    if list_clean_text[a] != '':\n",
    "        if '>' in list_clean_text[a]:\n",
    "            name_seq.append(list_clean_text[a])\n",
    "            i = i+1\n",
    "        else:\n",
    "            if len(seq) == (i):\n",
    "                seq.append(list_clean_text[a])\n",
    "            else:\n",
    "                seq[i] = (str(seq[i]) + str(list_clean_text[a]))\n",
    "            seq[i] = seq[i].replace(\" \", \"\")\n",
    "            seq[i] = seq[i].upper()\n",
    "\n",
    "df_user = pd.DataFrame(columns =['name','Sequence','Sequence_len', '%hydrophobic', '%hydrophilic', '%uncharged',\n",
    "       '%positive charge', '%Negative charge', 'Molecular Weight', 'pI',\n",
    "       'score hydrophilic', 'Score hydrophobic', 'similarity_Beta-defensin 1',\n",
    "       'similarity_Drosocin', 'similarity_Spaetzle', 'similarity_B-RAF',\n",
    "       'similarity_hemoglobin', 'similarity_keratin'])\n",
    "       \n",
    "not_amino = ['B','J', 'O', 'U', 'X','Z']\n",
    "for i in range(len(seq)):\n",
    "    if (c not in seq[i] for c in ('B','J', 'O', 'U', 'X','Z')):\n",
    "        print(seq[i])\n",
    "        print(i)\n",
    "        # df.loc[len(df)] = name_seq[i]\n",
    "        # df_user['Sequence'] = seq[i]\n",
    "\n",
    "\n",
    "\n",
    "print(name_seq)\n",
    "print(seq)  \n",
    "        \n"
   ]
  },
  {
   "cell_type": "code",
   "execution_count": 216,
   "metadata": {},
   "outputs": [],
   "source": [
    "not_amino = ['B','J', 'O', 'U', 'X','Z']"
   ]
  },
  {
   "cell_type": "code",
   "execution_count": 217,
   "metadata": {},
   "outputs": [
    {
     "data": {
      "text/html": [
       "<div>\n",
       "<style scoped>\n",
       "    .dataframe tbody tr th:only-of-type {\n",
       "        vertical-align: middle;\n",
       "    }\n",
       "\n",
       "    .dataframe tbody tr th {\n",
       "        vertical-align: top;\n",
       "    }\n",
       "\n",
       "    .dataframe thead th {\n",
       "        text-align: right;\n",
       "    }\n",
       "</style>\n",
       "<table border=\"1\" class=\"dataframe\">\n",
       "  <thead>\n",
       "    <tr style=\"text-align: right;\">\n",
       "      <th></th>\n",
       "      <th>name</th>\n",
       "      <th>Sequence</th>\n",
       "      <th>Sequence_len</th>\n",
       "      <th>%hydrophobic</th>\n",
       "      <th>%hydrophilic</th>\n",
       "      <th>%uncharged</th>\n",
       "      <th>%positive charge</th>\n",
       "      <th>%Negative charge</th>\n",
       "      <th>Molecular Weight</th>\n",
       "      <th>pI</th>\n",
       "      <th>score hydrophilic</th>\n",
       "      <th>Score hydrophobic</th>\n",
       "      <th>similarity_Beta-defensin 1</th>\n",
       "      <th>similarity_Drosocin</th>\n",
       "      <th>similarity_Spaetzle</th>\n",
       "      <th>similarity_B-RAF</th>\n",
       "      <th>similarity_hemoglobin</th>\n",
       "      <th>similarity_keratin</th>\n",
       "    </tr>\n",
       "  </thead>\n",
       "  <tbody>\n",
       "  </tbody>\n",
       "</table>\n",
       "</div>"
      ],
      "text/plain": [
       "Empty DataFrame\n",
       "Columns: [name, Sequence, Sequence_len, %hydrophobic, %hydrophilic, %uncharged, %positive charge, %Negative charge, Molecular Weight, pI, score hydrophilic, Score hydrophobic, similarity_Beta-defensin 1, similarity_Drosocin, similarity_Spaetzle, similarity_B-RAF, similarity_hemoglobin, similarity_keratin]\n",
       "Index: []"
      ]
     },
     "execution_count": 217,
     "metadata": {},
     "output_type": "execute_result"
    }
   ],
   "source": [
    "df_user"
   ]
  },
  {
   "cell_type": "code",
   "execution_count": null,
   "metadata": {},
   "outputs": [],
   "source": [
    "['B', 'J', 'O', 'U' 'X', 'Z']"
   ]
  },
  {
   "attachments": {},
   "cell_type": "markdown",
   "metadata": {},
   "source": [
    "A C D E F G H I K L M N P Q R S T V W Y"
   ]
  },
  {
   "cell_type": "code",
   "execution_count": 194,
   "metadata": {},
   "outputs": [
    {
     "name": "stdout",
     "output_type": "stream",
     "text": [
      "no\n"
     ]
    }
   ],
   "source": [
    "a =2\n",
    "b=5\n",
    "if (a or b) != 2:\n",
    "    print('yes')\n",
    "else:\n",
    "    print('no')"
   ]
  },
  {
   "cell_type": "code",
   "execution_count": 225,
   "metadata": {},
   "outputs": [],
   "source": [
    "Sequence_len = [1] \n",
    "hydrophobic = [2]\n",
    "hydrophilic = [3] \n",
    "uncharged = [4]\n",
    "positive_charge = [5]\n",
    "Negative_charge = [6]\n",
    "Molecular_Weight = [7]\n",
    "pI = [9]\n",
    "score_hydrophilic = [8]\n",
    "Score_hydrophobic = [9]\n",
    "similarity_Betadefensin = [5]\n",
    "similarity_Drosocin = [6]\n",
    "similarity_Spaetzle = [5]\n",
    "similarity_BRAF = [2]\n",
    "similarity_hemoglobin = [1]\n",
    "similarity_keratin = [4]"
   ]
  },
  {
   "cell_type": "code",
   "execution_count": 226,
   "metadata": {},
   "outputs": [],
   "source": [
    "def all_data_user(Sequence_len, hydrophobic, hydrophilic, uncharged, positive_charge, Negative_charge, Molecular_Weight, pI, score_hydrophilic, Score_hydrophobic, similarity_Betadefensin, similarity_Drosocin, similarity_Spaetzle, similarity_BRAF, similarity_hemoglobin, similarity_keratin):\n",
    "   dict = {'Sequence_len': Sequence_len, '%hydrophobic': hydrophobic, '%hydrophilic': hydrophilic, \n",
    "            '%uncharged':uncharged, '%positive charge' : positive_charge, '%Negative charge' : Negative_charge, \n",
    "            'Molecular Weight': Molecular_Weight, 'pI': pI, 'score hydrophilic' :score_hydrophilic, \n",
    "            'Score hydrophobic':Score_hydrophobic, 'similarity_Beta-defensin 1': similarity_Betadefensin,\n",
    "            'similarity_Drosocin': similarity_Drosocin, 'similarity_Spaetzle': similarity_Spaetzle, \n",
    "            'similarity_B-RAF' : similarity_BRAF, 'similarity_hemoglobin': similarity_hemoglobin, 'similarity_keratin' : similarity_keratin} \n",
    "   df_use_in_model = pd.DataFrame(dict, dtype = float)\n",
    "   return df_use_in_model\n",
    "    "
   ]
  },
  {
   "cell_type": "code",
   "execution_count": 228,
   "metadata": {},
   "outputs": [],
   "source": [
    "df_use_in_model = all_data_user(Sequence_len, hydrophobic, hydrophilic, uncharged, positive_charge, Negative_charge, Molecular_Weight, pI, score_hydrophilic, Score_hydrophobic, similarity_Betadefensin, similarity_Drosocin, similarity_Spaetzle, similarity_BRAF, similarity_hemoglobin, similarity_keratin)"
   ]
  },
  {
   "cell_type": "code",
   "execution_count": 229,
   "metadata": {},
   "outputs": [
    {
     "data": {
      "text/html": [
       "<div>\n",
       "<style scoped>\n",
       "    .dataframe tbody tr th:only-of-type {\n",
       "        vertical-align: middle;\n",
       "    }\n",
       "\n",
       "    .dataframe tbody tr th {\n",
       "        vertical-align: top;\n",
       "    }\n",
       "\n",
       "    .dataframe thead th {\n",
       "        text-align: right;\n",
       "    }\n",
       "</style>\n",
       "<table border=\"1\" class=\"dataframe\">\n",
       "  <thead>\n",
       "    <tr style=\"text-align: right;\">\n",
       "      <th></th>\n",
       "      <th>Sequence_len</th>\n",
       "      <th>%hydrophobic</th>\n",
       "      <th>%hydrophilic</th>\n",
       "      <th>%uncharged</th>\n",
       "      <th>%positive charge</th>\n",
       "      <th>%Negative charge</th>\n",
       "      <th>Molecular Weight</th>\n",
       "      <th>pI</th>\n",
       "      <th>score hydrophilic</th>\n",
       "      <th>Score hydrophobic</th>\n",
       "      <th>similarity_Beta-defensin 1</th>\n",
       "      <th>similarity_Drosocin</th>\n",
       "      <th>similarity_Spaetzle</th>\n",
       "      <th>similarity_B-RAF</th>\n",
       "      <th>similarity_hemoglobin</th>\n",
       "      <th>similarity_keratin</th>\n",
       "    </tr>\n",
       "  </thead>\n",
       "  <tbody>\n",
       "    <tr>\n",
       "      <th>0</th>\n",
       "      <td>1.0</td>\n",
       "      <td>2.0</td>\n",
       "      <td>3.0</td>\n",
       "      <td>4.0</td>\n",
       "      <td>5.0</td>\n",
       "      <td>6.0</td>\n",
       "      <td>7.0</td>\n",
       "      <td>9.0</td>\n",
       "      <td>8.0</td>\n",
       "      <td>9.0</td>\n",
       "      <td>5.0</td>\n",
       "      <td>6.0</td>\n",
       "      <td>5.0</td>\n",
       "      <td>2.0</td>\n",
       "      <td>1.0</td>\n",
       "      <td>4.0</td>\n",
       "    </tr>\n",
       "  </tbody>\n",
       "</table>\n",
       "</div>"
      ],
      "text/plain": [
       "   Sequence_len  %hydrophobic  %hydrophilic  %uncharged  %positive charge  \\\n",
       "0           1.0           2.0           3.0         4.0               5.0   \n",
       "\n",
       "   %Negative charge  Molecular Weight   pI  score hydrophilic  \\\n",
       "0               6.0               7.0  9.0                8.0   \n",
       "\n",
       "   Score hydrophobic  similarity_Beta-defensin 1  similarity_Drosocin  \\\n",
       "0                9.0                         5.0                  6.0   \n",
       "\n",
       "   similarity_Spaetzle  similarity_B-RAF  similarity_hemoglobin  \\\n",
       "0                  5.0               2.0                    1.0   \n",
       "\n",
       "   similarity_keratin  \n",
       "0                 4.0  "
      ]
     },
     "execution_count": 229,
     "metadata": {},
     "output_type": "execute_result"
    }
   ],
   "source": [
    "df_use_in_model"
   ]
  },
  {
   "cell_type": "code",
   "execution_count": null,
   "metadata": {},
   "outputs": [],
   "source": []
  }
 ],
 "metadata": {
  "kernelspec": {
   "display_name": "base",
   "language": "python",
   "name": "python3"
  },
  "language_info": {
   "codemirror_mode": {
    "name": "ipython",
    "version": 3
   },
   "file_extension": ".py",
   "mimetype": "text/x-python",
   "name": "python",
   "nbconvert_exporter": "python",
   "pygments_lexer": "ipython3",
   "version": "3.9.12"
  },
  "orig_nbformat": 4,
  "vscode": {
   "interpreter": {
    "hash": "a1f688c86976b874c375677ed1578d16eefa486d71945222ce93fe1c147e987b"
   }
  }
 },
 "nbformat": 4,
 "nbformat_minor": 2
}
